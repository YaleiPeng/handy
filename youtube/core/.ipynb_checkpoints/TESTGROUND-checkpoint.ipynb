{
 "cells": [
  {
   "cell_type": "code",
   "execution_count": 1,
   "id": "agricultural-ghost",
   "metadata": {},
   "outputs": [
    {
     "name": "stdout",
     "output_type": "stream",
     "text": [
      "[youtube] HX7B_w4RtWk: Downloading webpage\n",
      "[download] D:\\User\\pengy\\Download\\Chrome\\videos\\motivation\\COSMOSPEOPLECOSMOSPEOPLE feat. Shi ShiShi Shi [ Last Christmas（ cover ) ].webm has already been downloaded\n",
      "[download] 100% of 3.37MiB\n",
      "[ffmpeg] Destination: D:\\User\\pengy\\Download\\Chrome\\videos\\motivation\\COSMOSPEOPLECOSMOSPEOPLE feat. Shi ShiShi Shi [ Last Christmas（ cover ) ].mp3\n",
      "Deleting original file D:\\User\\pengy\\Download\\Chrome\\videos\\motivation\\COSMOSPEOPLECOSMOSPEOPLE feat. Shi ShiShi Shi [ Last Christmas（ cover ) ].webm (pass -k to keep)\n",
      "[youtube] Gv_SP_1ms0k: Downloading webpage\n",
      "[download] Destination: D:\\User\\pengy\\Download\\Chrome\\videos\\motivation\\Antoine Dufour - She is Music (Acoustic Guitar).webm\n",
      "[download] 100% of 5.30MiB in 00:01                  \n",
      "[ffmpeg] Destination: D:\\User\\pengy\\Download\\Chrome\\videos\\motivation\\Antoine Dufour - She is Music (Acoustic Guitar).mp3\n",
      "Deleting original file D:\\User\\pengy\\Download\\Chrome\\videos\\motivation\\Antoine Dufour - She is Music (Acoustic Guitar).webm (pass -k to keep)\n",
      "[youtube] BXLCq1b7-4s: Downloading webpage\n",
      "[download] Destination: D:\\User\\pengy\\Download\\Chrome\\videos\\motivation\\UNIQUE GUITAR AND HARP MUSIC.webm\n",
      "[download] 100% of 7.03MiB in 00:01                  \n",
      "[ffmpeg] Destination: D:\\User\\pengy\\Download\\Chrome\\videos\\motivation\\UNIQUE GUITAR AND HARP MUSIC.mp3\n",
      "Deleting original file D:\\User\\pengy\\Download\\Chrome\\videos\\motivation\\UNIQUE GUITAR AND HARP MUSIC.webm (pass -k to keep)\n"
     ]
    }
   ],
   "source": [
    "from __future__ import unicode_literals\n",
    "from selenium import webdriver\n",
    "import time \n",
    "import youtube_dl \n",
    "import os\n",
    "\n",
    "# url = input(\"Enter the Youtube Playlist URL : \")\n",
    "url = r\"https://www.youtube.com/playlist?list=PLj0QTvpOYim623WK7TuExzaHPmtMcjAd5\"\n",
    "export_folder = r\"D:\\User\\pengy\\Download\\Chrome\\videos\\motivation\"\n",
    "\n",
    "driver = webdriver.Chrome(executable_path=r\"C:\\Users\\pengy\\Documents\\GitHub\\handy\\youtube\\core\\chromedriver.exe\") \n",
    "driver.get(url)\n",
    "time.sleep(5)\n",
    "\n",
    "playlist=[]\n",
    "videos=driver.find_elements_by_class_name('style-scope ytd-playlist-video-renderer')\n",
    "\n",
    "ydl_opts = {\n",
    "    'outtmpl': f'{export_folder}/%(title)s.%(ext)s',\n",
    "    'format': 'bestaudio/best',\n",
    "    'postprocessors': [{\n",
    "        'key': 'FFmpegExtractAudio',\n",
    "        'preferredcodec': 'mp3',\n",
    "        'preferredquality': '192',\n",
    "    }],\n",
    "}\n",
    "    \n",
    "for video in videos:\n",
    "    link=video.find_element_by_xpath('.//*[@id=\"content\"]/a').get_attribute(\"href\")\n",
    "    end=link.find(\"&\")\n",
    "    link=link[:end]\n",
    "    playlist.append(link)\n",
    "\n",
    "for link in playlist:\n",
    "    with youtube_dl.YoutubeDL(ydl_opts) as ydl:\n",
    "        ydl.download([link])\n",
    "driver.close()"
   ]
  },
  {
   "cell_type": "code",
   "execution_count": null,
   "id": "synthetic-queens",
   "metadata": {},
   "outputs": [],
   "source": [
    "import tkinter as tk\n",
    "from tkinter import ttk\n",
    "import time\n",
    "\n",
    "\n",
    "def clicked():\n",
    "    num = 0\n",
    "    for item in range(5):\n",
    "        num += 10\n",
    "        progressBar['value'] = num\n",
    "        window.update_idletasks()\n",
    "        time.sleep(2)\n",
    "\n",
    "window = tk.Tk()\n",
    "\n",
    "progressBar = ttk.Progressbar(window, orient='horizontal', length=300, mode='determinate', maximum=100, value=0)\n",
    "progressBar.grid(columnspan=3, row=2, sticky=(tk.W, tk.E))\n",
    "\n",
    "btn = tk.Button(window, text=\"Click me!\", command=clicked)\n",
    "btn.grid(column=1, row=1)\n",
    "\n",
    "window.mainloop()"
   ]
  },
  {
   "cell_type": "code",
   "execution_count": null,
   "id": "about-powell",
   "metadata": {},
   "outputs": [],
   "source": []
  },
  {
   "cell_type": "code",
   "execution_count": null,
   "id": "inclusive-trouble",
   "metadata": {},
   "outputs": [],
   "source": []
  }
 ],
 "metadata": {
  "kernelspec": {
   "display_name": "Python 3",
   "language": "python",
   "name": "python3"
  },
  "language_info": {
   "codemirror_mode": {
    "name": "ipython",
    "version": 3
   },
   "file_extension": ".py",
   "mimetype": "text/x-python",
   "name": "python",
   "nbconvert_exporter": "python",
   "pygments_lexer": "ipython3",
   "version": "3.8.5"
  }
 },
 "nbformat": 4,
 "nbformat_minor": 5
}
